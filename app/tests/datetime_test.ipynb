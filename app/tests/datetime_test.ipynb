{
 "metadata": {
  "language_info": {
   "codemirror_mode": {
    "name": "ipython",
    "version": 3
   },
   "file_extension": ".py",
   "mimetype": "text/x-python",
   "name": "python",
   "nbconvert_exporter": "python",
   "pygments_lexer": "ipython3",
   "version": "3.9.0"
  },
  "orig_nbformat": 2,
  "kernelspec": {
   "name": "python390jvsc74a57bd03ee821bf7455627cbfb3e339c36fbd67f3c2828ef56d50172059d86099a55a3a",
   "display_name": "Python 3.9.0 64-bit ('3.9.0')"
  },
  "metadata": {
   "interpreter": {
    "hash": "3ee821bf7455627cbfb3e339c36fbd67f3c2828ef56d50172059d86099a55a3a"
   }
  }
 },
 "nbformat": 4,
 "nbformat_minor": 2,
 "cells": [
  {
   "cell_type": "code",
   "execution_count": 12,
   "metadata": {},
   "outputs": [],
   "source": [
    "from datetime import datetime\n",
    "import datetime\n",
    "import pytz\n"
   ]
  },
  {
   "cell_type": "code",
   "execution_count": 13,
   "metadata": {},
   "outputs": [
    {
     "output_type": "stream",
     "name": "stdout",
     "text": [
      "\nNow\n2021-05-09 06:19:15.414090+09:00\n<class 'datetime.datetime'>\n"
     ]
    }
   ],
   "source": [
    "print(\"\\nNow\")\n",
    "now = datetime.datetime.now(pytz.timezone('Asia/Tokyo'))\n",
    "print(now)\n",
    "print(type(now))"
   ]
  },
  {
   "cell_type": "code",
   "execution_count": 14,
   "metadata": {},
   "outputs": [
    {
     "output_type": "stream",
     "name": "stdout",
     "text": [
      "\nDate\n2021-05-09\n<class 'str'>\n"
     ]
    }
   ],
   "source": [
    "# Date\n",
    "print(\"\\nDate\")\n",
    "now_2 = str(now.date())\n",
    "print(now_2)\n",
    "print(type(now_2))"
   ]
  },
  {
   "cell_type": "code",
   "execution_count": 15,
   "metadata": {},
   "outputs": [
    {
     "output_type": "stream",
     "name": "stdout",
     "text": [
      "2021-05-09 00:00:00\n<class 'datetime.datetime'>\n"
     ]
    }
   ],
   "source": [
    "day_1 = datetime.datetime.strptime(now_2, '%Y-%m-%d')\n",
    "print(day_1)\n",
    "print(type(day_1))"
   ]
  },
  {
   "cell_type": "code",
   "execution_count": 16,
   "metadata": {},
   "outputs": [
    {
     "output_type": "stream",
     "name": "stdout",
     "text": [
      "2021-05-09\n<class 'datetime.date'>\n"
     ]
    }
   ],
   "source": [
    "day_2=day_1.date()\n",
    "print(day_2)\n",
    "print(type(day_2))"
   ]
  },
  {
   "cell_type": "code",
   "execution_count": 17,
   "metadata": {},
   "outputs": [
    {
     "output_type": "stream",
     "name": "stdout",
     "text": [
      "\nTime\n06:19:15\n<class 'str'>\n"
     ]
    }
   ],
   "source": [
    "# Time\n",
    "print(\"\\nTime\")\n",
    "time = now.strftime(\"%H:%M:%S\")\n",
    "print(time)\n",
    "print(type(time))"
   ]
  },
  {
   "cell_type": "code",
   "execution_count": 18,
   "metadata": {},
   "outputs": [
    {
     "output_type": "stream",
     "name": "stdout",
     "text": [
      "06:19:15.414090\n<class 'datetime.time'>\n"
     ]
    }
   ],
   "source": [
    "time_2 = now.time()\n",
    "print(time_2)\n",
    "print(type(time_2))"
   ]
  },
  {
   "cell_type": "code",
   "execution_count": 19,
   "metadata": {},
   "outputs": [
    {
     "output_type": "stream",
     "name": "stdout",
     "text": [
      "\nDebug\n06:19:15\n<class 'str'>\n"
     ]
    }
   ],
   "source": [
    "# DEBUG\n",
    "print(\"\\nDebug\")\n",
    "debug_1 = '{0:%H:%M:%S}'.format(now.time())\n",
    "print(debug_1)\n",
    "print(type(debug_1))"
   ]
  },
  {
   "cell_type": "code",
   "execution_count": 20,
   "metadata": {},
   "outputs": [
    {
     "output_type": "stream",
     "name": "stdout",
     "text": [
      "2021-05-09\n<class 'str'>\n"
     ]
    }
   ],
   "source": [
    "debug_2 = '{0:%Y-%m-%d}'.format(now.date())\n",
    "print(debug_2)\n",
    "print(type(debug_2))"
   ]
  },
  {
   "cell_type": "code",
   "execution_count": 21,
   "metadata": {},
   "outputs": [
    {
     "output_type": "stream",
     "name": "stdout",
     "text": [
      "1900-01-01 06:19:15\n<class 'datetime.datetime'>\n"
     ]
    }
   ],
   "source": [
    "debug_3 = datetime.datetime.strptime(time, '%H:%M:%S')\n",
    "print(debug_3)\n",
    "print(type(debug_3))\n"
   ]
  },
  {
   "cell_type": "code",
   "execution_count": 22,
   "metadata": {},
   "outputs": [
    {
     "output_type": "stream",
     "name": "stdout",
     "text": [
      "06:19:15\n<class 'datetime.time'>\n"
     ]
    }
   ],
   "source": [
    "debug_4 = debug_3.time()\n",
    "print(debug_4)\n",
    "print(type(debug_4))"
   ]
  },
  {
   "cell_type": "code",
   "execution_count": null,
   "metadata": {},
   "outputs": [],
   "source": []
  }
 ]
}